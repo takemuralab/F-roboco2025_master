{
  "nbformat": 4,
  "nbformat_minor": 0,
  "metadata": {
    "colab": {
      "provenance": []
    },
    "kernelspec": {
      "name": "python3",
      "display_name": "Python 3"
    },
    "language_info": {
      "name": "python"
    }
  },
  "cells": [
    {
      "cell_type": "markdown",
      "source": [
        "データサイエンスでは、大量のデータを加工して分析したり、化学計算したりする。\n",
        "\n",
        "そうした計算処理をするためのプログラムを都度作っていては、作業効率が落ちてします。\n",
        "\n",
        "そのため、本章ではいくつかのライブラリを紹介し、使い方を学ぶ\n",
        "\n",
        "\n",
        "\n",
        "\n",
        "*   Numpy :  基本的な配列演算や数値計算をするライブラリ。　Pythonの通常計算処理処理時間が早い\n",
        "*   Scipy :  Numpyをさらに強化するライブラリ。統計や信号計算が可能\n",
        "*   Pandas :  データフレーム形式で様々なデータを加工するためのライブラリ\n",
        "*   Matplotlib : データをグラフ化するためのライブラリ\n",
        "\n",
        "\n",
        "\n",
        "\n"
      ],
      "metadata": {
        "id": "cBII_JF9Z-62"
      }
    },
    {
      "cell_type": "markdown",
      "source": [
        "***ライブラリの読み込み***\n",
        "\n",
        "ライブラリは、Pythonのモジュールという機能で実装されている。\n",
        "利用するためには、モジュールを読み込む必要がある\n",
        "\n",
        "代表的な構文\n",
        "(1)  import モジュール名　as 識別名\n",
        "(2)  from モジュール名　import 属性"
      ],
      "metadata": {
        "id": "xIvJAuD_bPSp"
      }
    },
    {
      "cell_type": "code",
      "source": [
        "import numpy as np"
      ],
      "metadata": {
        "id": "xfOPDwDZbQuQ"
      },
      "execution_count": 1,
      "outputs": []
    },
    {
      "cell_type": "code",
      "source": [
        "from numpy import random"
      ],
      "metadata": {
        "id": "r_QTD9EBbQqH"
      },
      "execution_count": 2,
      "outputs": []
    },
    {
      "cell_type": "code",
      "source": [
        "# この章で使うライブラリのインポート\n",
        "import numpy as np\n",
        "import numpy.random as random\n",
        "import scipy as sp\n",
        "import pandas as pd\n",
        "from pandas import Series, DataFrame\n",
        "\n",
        "# 可視化ライブラリ\n",
        "import matplotlib.pyplot as plt"
      ],
      "metadata": {
        "id": "nXP65pUfbr0m"
      },
      "execution_count": null,
      "outputs": []
    }
  ]
}